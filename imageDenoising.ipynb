{
 "cells": [
  {
   "cell_type": "code",
   "execution_count": 1,
   "id": "fb2692bd",
   "metadata": {},
   "outputs": [
    {
     "name": "stderr",
     "output_type": "stream",
     "text": [
      "C:\\Users\\agarw\\anaconda3\\lib\\site-packages\\scipy\\__init__.py:155: UserWarning: A NumPy version >=1.18.5 and <1.25.0 is required for this version of SciPy (detected version 1.26.4\n",
      "  warnings.warn(f\"A NumPy version >={np_minversion} and <{np_maxversion}\"\n"
     ]
    },
    {
     "name": "stdout",
     "output_type": "stream",
     "text": [
      "WARNING:tensorflow:From C:\\Users\\agarw\\anaconda3\\lib\\site-packages\\keras\\src\\losses.py:2976: The name tf.losses.sparse_softmax_cross_entropy is deprecated. Please use tf.compat.v1.losses.sparse_softmax_cross_entropy instead.\n",
      "\n"
     ]
    }
   ],
   "source": [
    "import numpy as np\n",
    "import matplotlib.pyplot as plt\n",
    "from keras import Sequential\n",
    "from keras.layers import Dense, Conv2D, MaxPooling2D, UpSampling2D\n",
    "from keras.datasets import mnist"
   ]
  },
  {
   "cell_type": "code",
   "execution_count": 2,
   "id": "df3efcaf",
   "metadata": {},
   "outputs": [],
   "source": [
    "#Load Dataset\n",
    "(data_train, _), (data_test, _) = mnist.load_data()\n",
    "\n"
   ]
  },
  {
   "cell_type": "code",
   "execution_count": 3,
   "id": "4e7d1214",
   "metadata": {},
   "outputs": [],
   "source": [
    "data_train = data_train.astype('float32') / 255\n",
    "data_test = data_test.astype('float32') / 255"
   ]
  },
  {
   "cell_type": "code",
   "execution_count": 4,
   "id": "0dc6d81c",
   "metadata": {},
   "outputs": [],
   "source": [
    "data_train = data_train.reshape(len(data_train), 28, 28, 1)\n",
    "data_test = data_test.reshape(len(data_test), 28, 28, 1)"
   ]
  },
  {
   "cell_type": "code",
   "execution_count": 5,
   "id": "48b8a814",
   "metadata": {},
   "outputs": [],
   "source": [
    "#Add noise to the dataset\n",
    "noise_factor = 0.6\n",
    "train_noisy = data_train + noise_factor * np.random.normal(loc=0.0, scale=1.0, size=data_train.shape)\n",
    "test_noisy = data_test + noise_factor * np.random.normal(loc=0.0, scale=1.0, size=data_test.shape)\n"
   ]
  },
  {
   "cell_type": "code",
   "execution_count": 6,
   "id": "a2554031",
   "metadata": {},
   "outputs": [],
   "source": [
    "train_noisy = np.clip(train_noisy, 0., 1.)\n",
    "test_noisy = np.clip(test_noisy, 0., 1.)"
   ]
  },
  {
   "cell_type": "code",
   "execution_count": 7,
   "id": "bade519e",
   "metadata": {},
   "outputs": [
    {
     "data": {
      "image/png": "[encoded data removed]",
      "text/plain": [
       "<Figure size 640x480 with 1 Axes>"
      ]
     },
     "metadata": {},
     "output_type": "display_data"
    }
   ],
   "source": [
    "# Plot some images\n",
    "idx = np.random.randint(len(data_test))\n",
    "plt.imshow(data_test[idx].reshape(28, 28))\n",
    "plt.gray()\n",
    "plt.show()"
   ]
  },
  {
   "cell_type": "code",
   "execution_count": 8,
   "id": "07cbba53",
   "metadata": {},
   "outputs": [
    {
     "data": {
      "image/png": "[encoded data removed]",
      "text/plain": [
       "<Figure size 640x480 with 1 Axes>"
      ]
     },
     "metadata": {},
     "output_type": "display_data"
    }
   ],
   "source": [
    "idx = np.random.randint(len(data_test))\n",
    "plt.imshow(test_noisy[idx].reshape(28, 28))\n",
    "plt.gray()\n",
    "plt.show()"
   ]
  },
  {
   "cell_type": "code",
   "execution_count": 9,
   "id": "f14c1d77",
   "metadata": {},
   "outputs": [
    {
     "name": "stdout",
     "output_type": "stream",
     "text": [
      "WARNING:tensorflow:From C:\\Users\\agarw\\anaconda3\\lib\\site-packages\\keras\\src\\backend.py:873: The name tf.get_default_graph is deprecated. Please use tf.compat.v1.get_default_graph instead.\n",
      "\n",
      "WARNING:tensorflow:From C:\\Users\\agarw\\anaconda3\\lib\\site-packages\\keras\\src\\layers\\pooling\\max_pooling2d.py:161: The name tf.nn.max_pool is deprecated. Please use tf.nn.max_pool2d instead.\n",
      "\n",
      "WARNING:tensorflow:From C:\\Users\\agarw\\anaconda3\\lib\\site-packages\\keras\\src\\optimizers\\__init__.py:309: The name tf.train.Optimizer is deprecated. Please use tf.compat.v1.train.Optimizer instead.\n",
      "\n",
      "Model: \"sequential\"\n",
      "_________________________________________________________________\n",
      " Layer (type)                Output Shape              Param #   \n",
      "=================================================================\n",
      " conv2d (Conv2D)             (None, 28, 28, 32)        320       \n",
      "                                                                 \n",
      " max_pooling2d (MaxPooling2  (None, 14, 14, 32)        0         \n",
      " D)                                                              \n",
      "                                                                 \n",
      " conv2d_1 (Conv2D)           (None, 14, 14, 16)        4624      \n",
      "                                                                 \n",
      " max_pooling2d_1 (MaxPoolin  (None, 7, 7, 16)          0         \n",
      " g2D)                                                            \n",
      "                                                                 \n",
      " conv2d_2 (Conv2D)           (None, 7, 7, 16)          2320      \n",
      "                                                                 \n",
      " up_sampling2d (UpSampling2  (None, 14, 14, 16)        0         \n",
      " D)                                                              \n",
      "                                                                 \n",
      " conv2d_3 (Conv2D)           (None, 14, 14, 32)        4640      \n",
      "                                                                 \n",
      " up_sampling2d_1 (UpSamplin  (None, 28, 28, 32)        0         \n",
      " g2D)                                                            \n",
      "                                                                 \n",
      " conv2d_4 (Conv2D)           (None, 28, 28, 1)         289       \n",
      "                                                                 \n",
      "=================================================================\n",
      "Total params: 12193 (47.63 KB)\n",
      "Trainable params: 12193 (47.63 KB)\n",
      "Non-trainable params: 0 (0.00 Byte)\n",
      "_________________________________________________________________\n"
     ]
    }
   ],
   "source": [
    "autoencoder = Sequential([\n",
    "    # Encoder\n",
    "    Conv2D(32, 3, activation='relu', padding='same', input_shape=(28, 28, 1)),\n",
    "    MaxPooling2D(2, padding='same'),\n",
    "    Conv2D(16, 3, activation='relu', padding='same'),\n",
    "    MaxPooling2D(2, padding='same'),\n",
    "    # Decoder\n",
    "    Conv2D(16, 3, activation='relu', padding='same'),\n",
    "    UpSampling2D(2),\n",
    "    Conv2D(32, 3, activation='relu', padding='same'),\n",
    "    UpSampling2D(2),\n",
    "    # Output layer\n",
    "    Conv2D(1, 3, activation='sigmoid', padding='same')\n",
    "])\n",
    "\n",
    "autoencoder.compile(optimizer='adam', loss='binary_crossentropy')\n",
    "autoencoder.summary()"
   ]
  },
  {
   "cell_type": "code",
   "execution_count": 10,
   "id": "e906f045",
   "metadata": {},
   "outputs": [
    {
     "name": "stdout",
     "output_type": "stream",
     "text": [
      "Epoch 1/20\n",
      "WARNING:tensorflow:From C:\\Users\\agarw\\anaconda3\\lib\\site-packages\\keras\\src\\utils\\tf_utils.py:492: The name tf.ragged.RaggedTensorValue is deprecated. Please use tf.compat.v1.ragged.RaggedTensorValue instead.\n",
      "\n",
      "235/235 [==============================] - 17s 67ms/step - loss: 0.2481 - val_loss: 0.1540\n",
      "Epoch 2/20\n",
      "235/235 [==============================] - 15s 64ms/step - loss: 0.1454 - val_loss: 0.1380\n",
      "Epoch 3/20\n",
      "235/235 [==============================] - 15s 63ms/step - loss: 0.1352 - val_loss: 0.1304\n",
      "Epoch 4/20\n",
      "235/235 [==============================] - 15s 64ms/step - loss: 0.1299 - val_loss: 0.1264\n",
      "Epoch 5/20\n",
      "235/235 [==============================] - 15s 64ms/step - loss: 0.1267 - val_loss: 0.1239\n",
      "Epoch 6/20\n",
      "235/235 [==============================] - 15s 65ms/step - loss: 0.1246 - val_loss: 0.1221\n",
      "Epoch 7/20\n",
      "235/235 [==============================] - 15s 64ms/step - loss: 0.1229 - val_loss: 0.1208\n",
      "Epoch 8/20\n",
      "235/235 [==============================] - 15s 64ms/step - loss: 0.1218 - val_loss: 0.1200\n",
      "Epoch 9/20\n",
      "235/235 [==============================] - 15s 64ms/step - loss: 0.1205 - val_loss: 0.1185\n",
      "Epoch 10/20\n",
      "235/235 [==============================] - 16s 66ms/step - loss: 0.1195 - val_loss: 0.1177\n",
      "Epoch 11/20\n",
      "235/235 [==============================] - 15s 65ms/step - loss: 0.1186 - val_loss: 0.1169\n",
      "Epoch 12/20\n",
      "235/235 [==============================] - 15s 65ms/step - loss: 0.1179 - val_loss: 0.1161\n",
      "Epoch 13/20\n",
      "235/235 [==============================] - 16s 66ms/step - loss: 0.1172 - val_loss: 0.1157\n",
      "Epoch 14/20\n",
      "235/235 [==============================] - 16s 68ms/step - loss: 0.1166 - val_loss: 0.1152\n",
      "Epoch 15/20\n",
      "235/235 [==============================] - 15s 65ms/step - loss: 0.1160 - val_loss: 0.1153\n",
      "Epoch 16/20\n",
      "235/235 [==============================] - 15s 66ms/step - loss: 0.1155 - val_loss: 0.1146\n",
      "Epoch 17/20\n",
      "235/235 [==============================] - 16s 66ms/step - loss: 0.1151 - val_loss: 0.1136\n",
      "Epoch 18/20\n",
      "235/235 [==============================] - 15s 65ms/step - loss: 0.1147 - val_loss: 0.1132\n",
      "Epoch 19/20\n",
      "235/235 [==============================] - 15s 66ms/step - loss: 0.1143 - val_loss: 0.1131\n",
      "Epoch 20/20\n",
      "235/235 [==============================] - 15s 66ms/step - loss: 0.1139 - val_loss: 0.1135\n"
     ]
    },
    {
     "data": {
      "text/plain": [
       "<keras.src.callbacks.History at 0x2c82a879a30>"
      ]
     },
     "execution_count": 10,
     "metadata": {},
     "output_type": "execute_result"
    }
   ],
   "source": [
    "autoencoder.fit(train_noisy, data_train, epochs=20, batch_size=256, validation_data=(test_noisy, data_test))"
   ]
  },
  {
   "cell_type": "code",
   "execution_count": 11,
   "id": "8a2d4115",
   "metadata": {},
   "outputs": [
    {
     "name": "stdout",
     "output_type": "stream",
     "text": [
      "313/313 [==============================] - 1s 3ms/step\n"
     ]
    }
   ],
   "source": [
    "predictions = autoencoder.predict(test_noisy)"
   ]
  },
  {
   "cell_type": "code",
   "execution_count": 12,
   "id": "2e563dfb",
   "metadata": {},
   "outputs": [
    {
     "data": {
      "image/png": "[encoded data removed]",
      "text/plain": [
       "<Figure size 640x480 with 1 Axes>"
      ]
     },
     "metadata": {},
     "output_type": "display_data"
    }
   ],
   "source": [
    "# Plot results\n",
    "idx = np.random.randint(len(data_test))\n",
    "plt.imshow(test_noisy[idx].reshape(28, 28))\n",
    "plt.gray()\n",
    "plt.show()"
   ]
  },
  {
   "cell_type": "code",
   "execution_count": 13,
   "id": "c098f903",
   "metadata": {},
   "outputs": [
    {
     "data": {
      "image/png": "[encoded data removed]",
      "text/plain": [
       "<Figure size 640x480 with 1 Axes>"
      ]
     },
     "metadata": {},
     "output_type": "display_data"
    }
   ],
   "source": [
    "plt.imshow(predictions[idx].reshape(28, 28))\n",
    "plt.gray()\n",
    "plt.show()"
   ]
  },
  {
   "cell_type": "code",
   "execution_count": 14,
   "id": "4dc039fe",
   "metadata": {},
   "outputs": [
    {
     "data": {
      "image/png": "[encoded data removed]",
      "text/plain": [
       "<Figure size 1000x400 with 2 Axes>"
      ]
     },
     "metadata": {},
     "output_type": "display_data"
    }
   ],
   "source": [
    "# Another example\n",
    "idx = np.random.randint(len(data_test))\n",
    "plt.figure(figsize=(10, 4))\n",
    "\n",
    "# Display original noisy image\n",
    "ax = plt.subplot(1, 2, 1)\n",
    "plt.imshow(test_noisy[idx].reshape(28, 28))\n",
    "plt.gray()\n",
    "ax.get_xaxis().set_visible(False)\n",
    "ax.get_yaxis().set_visible(False)\n",
    "\n",
    "# Display denoised image\n",
    "ax = plt.subplot(1, 2, 2)\n",
    "plt.imshow(predictions[idx].reshape(28, 28))\n",
    "plt.gray()\n",
    "ax.get_xaxis().set_visible(False)\n",
    "ax.get_yaxis().set_visible(False)\n",
    "plt.show()"
   ]
  },
  {
   "cell_type": "code",
   "execution_count": 15,
   "id": "ba9d748a",
   "metadata": {},
   "outputs": [
    {
     "data": {
      "image/png": "[encoded data removed]",
      "text/plain": [
       "<Figure size 1000x400 with 2 Axes>"
      ]
     },
     "metadata": {},
     "output_type": "display_data"
    }
   ],
   "source": [
    "# Yet another example\n",
    "idx = np.random.randint(len(data_test))\n",
    "plt.figure(figsize=(10, 4))\n",
    "\n",
    "# Display original noisy image\n",
    "ax = plt.subplot(1, 2, 1)\n",
    "plt.imshow(test_noisy[idx].reshape(28, 28))\n",
    "plt.gray()\n",
    "ax.get_xaxis().set_visible(False)\n",
    "ax.get_yaxis().set_visible(False)\n",
    "\n",
    "# Display denoised image\n",
    "ax = plt.subplot(1, 2, 2)\n",
    "plt.imshow(predictions[idx].reshape(28, 28))\n",
    "plt.gray()\n",
    "ax.get_xaxis().set_visible(False)\n",
    "ax.get_yaxis().set_visible(False)\n",
    "plt.show()"
   ]
  }
 ],
 "metadata": {
  "kernelspec": {
   "display_name": "Python 3 (ipykernel)",
   "language": "python",
   "name": "python3"
  },
  "language_info": {
   "codemirror_mode": {
    "name": "ipython",
    "version": 3
   },
   "file_extension": ".py",
   "mimetype": "text/x-python",
   "name": "python",
   "nbconvert_exporter": "python",
   "pygments_lexer": "ipython3",
   "version": "3.9.13"
  }
 },
 "nbformat": 4,
 "nbformat_minor": 5
}
